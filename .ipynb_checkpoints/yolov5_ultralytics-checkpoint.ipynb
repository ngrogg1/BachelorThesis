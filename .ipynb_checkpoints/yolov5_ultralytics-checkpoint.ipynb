{
 "cells": [
  {
   "cell_type": "markdown",
   "id": "00065fb9",
   "metadata": {},
   "source": [
    "## Install Pytorch"
   ]
  },
  {
   "cell_type": "code",
   "execution_count": 1,
   "id": "e6a7981f",
   "metadata": {},
   "outputs": [
    {
     "name": "stdout",
     "output_type": "stream",
     "text": [
      "^C\n"
     ]
    }
   ],
   "source": [
    "!pip install torch torchvision torchaudio --extra-index-url https://download.pytorch.org/whl/cu113"
   ]
  },
  {
   "cell_type": "markdown",
   "id": "079900d6",
   "metadata": {},
   "source": [
    "## Clone yolov5 ultralytics respository and import Dependencies"
   ]
  },
  {
   "cell_type": "code",
   "execution_count": 2,
   "id": "4cd9c0fc",
   "metadata": {},
   "outputs": [
    {
     "name": "stderr",
     "output_type": "stream",
     "text": [
      "Cloning into 'yolov5'...\n"
     ]
    }
   ],
   "source": [
    "!cd .. & git clone https://github.com/ultralytics/yolov5"
   ]
  },
  {
   "cell_type": "code",
   "execution_count": 3,
   "id": "4fd3e9b8",
   "metadata": {},
   "outputs": [
    {
     "name": "stdout",
     "output_type": "stream",
     "text": [
      "Requirement already satisfied: matplotlib>=3.2.2 in c:\\users\\nic\\anaconda3\\envs\\bachelorthesis\\lib\\site-packages (from -r requirements.txt (line 4)) (3.5.1)\n",
      "Requirement already satisfied: numpy>=1.18.5 in c:\\users\\nic\\anaconda3\\envs\\bachelorthesis\\lib\\site-packages (from -r requirements.txt (line 5)) (1.21.5)\n",
      "Collecting opencv-python>=4.1.1\n",
      "  Using cached opencv_python-4.5.5.64-cp36-abi3-win_amd64.whl (35.4 MB)\n",
      "Requirement already satisfied: Pillow>=7.1.2 in c:\\users\\nic\\anaconda3\\envs\\bachelorthesis\\lib\\site-packages (from -r requirements.txt (line 7)) (9.0.1)\n",
      "Collecting PyYAML>=5.3.1\n",
      "  Using cached PyYAML-6.0-cp38-cp38-win_amd64.whl (155 kB)\n",
      "Requirement already satisfied: requests>=2.23.0 in c:\\users\\nic\\anaconda3\\envs\\bachelorthesis\\lib\\site-packages (from -r requirements.txt (line 9)) (2.27.1)\n",
      "Collecting scipy>=1.4.1\n",
      "  Using cached scipy-1.8.0-cp38-cp38-win_amd64.whl (36.9 MB)\n",
      "Requirement already satisfied: torch>=1.7.0 in c:\\users\\nic\\anaconda3\\envs\\bachelorthesis\\lib\\site-packages (from -r requirements.txt (line 11)) (1.11.0+cu113)\n",
      "Requirement already satisfied: torchvision>=0.8.1 in c:\\users\\nic\\anaconda3\\envs\\bachelorthesis\\lib\\site-packages (from -r requirements.txt (line 12)) (0.12.0+cu113)\n",
      "Collecting tqdm>=4.41.0\n",
      "  Using cached tqdm-4.64.0-py2.py3-none-any.whl (78 kB)\n",
      "Collecting tensorboard>=2.4.1\n",
      "  Using cached tensorboard-2.9.0-py3-none-any.whl (5.8 MB)\n",
      "Requirement already satisfied: pandas>=1.1.4 in c:\\users\\nic\\anaconda3\\envs\\bachelorthesis\\lib\\site-packages (from -r requirements.txt (line 20)) (1.4.2)\n",
      "Collecting seaborn>=0.11.0\n",
      "  Using cached seaborn-0.11.2-py3-none-any.whl (292 kB)\n",
      "Collecting thop\n",
      "  Using cached thop-0.0.31.post2005241907-py3-none-any.whl (8.7 kB)\n",
      "Requirement already satisfied: python-dateutil>=2.7 in c:\\users\\nic\\anaconda3\\envs\\bachelorthesis\\lib\\site-packages (from matplotlib>=3.2.2->-r requirements.txt (line 4)) (2.8.2)\n",
      "Requirement already satisfied: kiwisolver>=1.0.1 in c:\\users\\nic\\anaconda3\\envs\\bachelorthesis\\lib\\site-packages (from matplotlib>=3.2.2->-r requirements.txt (line 4)) (1.3.2)\n",
      "Requirement already satisfied: pyparsing>=2.2.1 in c:\\users\\nic\\anaconda3\\envs\\bachelorthesis\\lib\\site-packages (from matplotlib>=3.2.2->-r requirements.txt (line 4)) (3.0.4)\n",
      "Requirement already satisfied: fonttools>=4.22.0 in c:\\users\\nic\\anaconda3\\envs\\bachelorthesis\\lib\\site-packages (from matplotlib>=3.2.2->-r requirements.txt (line 4)) (4.25.0)\n",
      "Requirement already satisfied: packaging>=20.0 in c:\\users\\nic\\anaconda3\\envs\\bachelorthesis\\lib\\site-packages (from matplotlib>=3.2.2->-r requirements.txt (line 4)) (21.3)\n",
      "Requirement already satisfied: cycler>=0.10 in c:\\users\\nic\\anaconda3\\envs\\bachelorthesis\\lib\\site-packages (from matplotlib>=3.2.2->-r requirements.txt (line 4)) (0.11.0)\n",
      "Requirement already satisfied: charset-normalizer~=2.0.0 in c:\\users\\nic\\anaconda3\\envs\\bachelorthesis\\lib\\site-packages (from requests>=2.23.0->-r requirements.txt (line 9)) (2.0.12)\n",
      "Requirement already satisfied: urllib3<1.27,>=1.21.1 in c:\\users\\nic\\anaconda3\\envs\\bachelorthesis\\lib\\site-packages (from requests>=2.23.0->-r requirements.txt (line 9)) (1.26.9)\n",
      "Requirement already satisfied: certifi>=2017.4.17 in c:\\users\\nic\\anaconda3\\envs\\bachelorthesis\\lib\\site-packages (from requests>=2.23.0->-r requirements.txt (line 9)) (2021.10.8)\n",
      "Requirement already satisfied: idna<4,>=2.5 in c:\\users\\nic\\anaconda3\\envs\\bachelorthesis\\lib\\site-packages (from requests>=2.23.0->-r requirements.txt (line 9)) (3.3)\n",
      "Requirement already satisfied: typing-extensions in c:\\users\\nic\\anaconda3\\envs\\bachelorthesis\\lib\\site-packages (from torch>=1.7.0->-r requirements.txt (line 11)) (4.1.1)\n",
      "Requirement already satisfied: colorama in c:\\users\\nic\\anaconda3\\envs\\bachelorthesis\\lib\\site-packages (from tqdm>=4.41.0->-r requirements.txt (line 13)) (0.4.4)\n",
      "Collecting werkzeug>=1.0.1\n",
      "  Using cached Werkzeug-2.1.2-py3-none-any.whl (224 kB)\n",
      "Collecting markdown>=2.6.8\n",
      "  Using cached Markdown-3.3.7-py3-none-any.whl (97 kB)\n",
      "Collecting google-auth<3,>=1.6.3\n",
      "  Using cached google_auth-2.6.6-py2.py3-none-any.whl (156 kB)\n",
      "Collecting tensorboard-plugin-wit>=1.6.0\n",
      "  Using cached tensorboard_plugin_wit-1.8.1-py3-none-any.whl (781 kB)\n",
      "Collecting google-auth-oauthlib<0.5,>=0.4.1\n",
      "  Using cached google_auth_oauthlib-0.4.6-py2.py3-none-any.whl (18 kB)\n",
      "Collecting grpcio>=1.24.3\n",
      "  Downloading grpcio-1.46.1-cp38-cp38-win_amd64.whl (3.5 MB)\n",
      "Collecting absl-py>=0.4\n",
      "  Using cached absl_py-1.0.0-py3-none-any.whl (126 kB)\n",
      "Requirement already satisfied: setuptools>=41.0.0 in c:\\users\\nic\\anaconda3\\envs\\bachelorthesis\\lib\\site-packages (from tensorboard>=2.4.1->-r requirements.txt (line 16)) (61.2.0)\n",
      "Requirement already satisfied: wheel>=0.26 in c:\\users\\nic\\anaconda3\\envs\\bachelorthesis\\lib\\site-packages (from tensorboard>=2.4.1->-r requirements.txt (line 16)) (0.37.1)\n",
      "Collecting protobuf>=3.9.2\n",
      "  Using cached protobuf-3.20.1-cp38-cp38-win_amd64.whl (904 kB)\n",
      "Collecting tensorboard-data-server<0.7.0,>=0.6.0\n",
      "  Using cached tensorboard_data_server-0.6.1-py3-none-any.whl (2.4 kB)\n",
      "Requirement already satisfied: pytz>=2020.1 in c:\\users\\nic\\anaconda3\\envs\\bachelorthesis\\lib\\site-packages (from pandas>=1.1.4->-r requirements.txt (line 20)) (2021.3)\n",
      "Requirement already satisfied: six in c:\\users\\nic\\anaconda3\\envs\\bachelorthesis\\lib\\site-packages (from absl-py>=0.4->tensorboard>=2.4.1->-r requirements.txt (line 16)) (1.16.0)\n",
      "Collecting rsa<5,>=3.1.4\n",
      "  Using cached rsa-4.8-py3-none-any.whl (39 kB)\n",
      "Collecting pyasn1-modules>=0.2.1\n",
      "  Using cached pyasn1_modules-0.2.8-py2.py3-none-any.whl (155 kB)\n",
      "Collecting cachetools<6.0,>=2.0.0\n",
      "  Downloading cachetools-5.1.0-py3-none-any.whl (9.2 kB)\n",
      "Collecting requests-oauthlib>=0.7.0\n",
      "  Using cached requests_oauthlib-1.3.1-py2.py3-none-any.whl (23 kB)\n",
      "Collecting importlib-metadata>=4.4\n",
      "  Using cached importlib_metadata-4.11.3-py3-none-any.whl (18 kB)\n",
      "Requirement already satisfied: zipp>=0.5 in c:\\users\\nic\\anaconda3\\envs\\bachelorthesis\\lib\\site-packages (from importlib-metadata>=4.4->markdown>=2.6.8->tensorboard>=2.4.1->-r requirements.txt (line 16)) (3.8.0)\n",
      "Collecting pyasn1<0.5.0,>=0.4.6\n",
      "  Using cached pyasn1-0.4.8-py2.py3-none-any.whl (77 kB)\n",
      "Collecting oauthlib>=3.0.0\n",
      "  Using cached oauthlib-3.2.0-py3-none-any.whl (151 kB)\n",
      "Installing collected packages: pyasn1, rsa, pyasn1-modules, oauthlib, cachetools, requests-oauthlib, importlib-metadata, google-auth, werkzeug, tensorboard-plugin-wit, tensorboard-data-server, scipy, protobuf, markdown, grpcio, google-auth-oauthlib, absl-py, tqdm, thop, tensorboard, seaborn, PyYAML, opencv-python\n",
      "Successfully installed PyYAML-6.0 absl-py-1.0.0 cachetools-5.1.0 google-auth-2.6.6 google-auth-oauthlib-0.4.6 grpcio-1.46.1 importlib-metadata-4.11.3 markdown-3.3.7 oauthlib-3.2.0 opencv-python-4.5.5.64 protobuf-3.20.1 pyasn1-0.4.8 pyasn1-modules-0.2.8 requests-oauthlib-1.3.1 rsa-4.8 scipy-1.8.0 seaborn-0.11.2 tensorboard-2.9.0 tensorboard-data-server-0.6.1 tensorboard-plugin-wit-1.8.1 thop-0.0.31.post2005241907 tqdm-4.64.0 werkzeug-2.1.2\n"
     ]
    }
   ],
   "source": [
    "!cd ../yolov5 & pip install -r requirements.txt"
   ]
  },
  {
   "cell_type": "code",
   "execution_count": 1,
   "id": "47261b54",
   "metadata": {},
   "outputs": [
    {
     "name": "stderr",
     "output_type": "stream",
     "text": [
      "C:\\Users\\Nic\\anaconda3\\envs\\BachelorThesis\\lib\\site-packages\\tqdm\\auto.py:22: TqdmWarning: IProgress not found. Please update jupyter and ipywidgets. See https://ipywidgets.readthedocs.io/en/stable/user_install.html\n",
      "  from .autonotebook import tqdm as notebook_tqdm\n"
     ]
    }
   ],
   "source": [
    "import torch\n",
    "from matplotlib import pyplot as plt\n",
    "import numpy as np\n",
    "import cv2\n",
    "import uuid\n",
    "import os\n",
    "import time"
   ]
  },
  {
   "cell_type": "markdown",
   "id": "29df6176",
   "metadata": {},
   "source": [
    "## Train and Load Model"
   ]
  },
  {
   "cell_type": "code",
   "execution_count": 3,
   "id": "440ab8ea",
   "metadata": {},
   "outputs": [],
   "source": [
    "import os\n",
    "os.environ[\"KMP_DUPLICATE_LIB_OK\"]=\"TRUE\""
   ]
  },
  {
   "cell_type": "code",
   "execution_count": 4,
   "id": "e72161b4",
   "metadata": {},
   "outputs": [
    {
     "name": "stderr",
     "output_type": "stream",
     "text": [
      "\u001b[34m\u001b[1mtrain: \u001b[0mweights=yolov5s.pt, cfg=, data=dataset.yaml, hyp=data\\hyps\\hyp.scratch-low.yaml, epochs=2, batch_size=4, imgsz=320, rect=False, resume=False, nosave=False, noval=False, noautoanchor=False, noplots=False, evolve=None, bucket=, cache=None, image_weights=False, device=, multi_scale=False, single_cls=False, optimizer=SGD, sync_bn=False, workers=0, project=runs\\train, name=exp, exist_ok=False, quad=False, cos_lr=False, label_smoothing=0.0, patience=100, freeze=[0], save_period=-1, local_rank=-1, entity=None, upload_dataset=False, bbox_interval=-1, artifact_alias=latest\n",
      "\u001b[34m\u001b[1mgithub: \u001b[0m YOLOv5 is out of date by 1 commit. Use `git pull` or `git clone https://github.com/ultralytics/yolov5` to update.\n",
      "YOLOv5  v6.1-190-g4d59f65 Python-3.8.13 torch-1.11.0+cu113 CUDA:0 (NVIDIA GeForce GTX 950M, 4096MiB)\n",
      "\n",
      "\u001b[34m\u001b[1mhyperparameters: \u001b[0mlr0=0.01, lrf=0.01, momentum=0.937, weight_decay=0.0005, warmup_epochs=3.0, warmup_momentum=0.8, warmup_bias_lr=0.1, box=0.05, cls=0.5, cls_pw=1.0, obj=1.0, obj_pw=1.0, iou_t=0.2, anchor_t=4.0, fl_gamma=0.0, hsv_h=0.015, hsv_s=0.7, hsv_v=0.4, degrees=0.0, translate=0.1, scale=0.5, shear=0.0, perspective=0.0, flipud=0.0, fliplr=0.5, mosaic=1.0, mixup=0.0, copy_paste=0.0\n",
      "\u001b[34m\u001b[1mWeights & Biases: \u001b[0mrun 'pip install wandb' to automatically track and visualize YOLOv5  runs (RECOMMENDED)\n",
      "\u001b[34m\u001b[1mTensorBoard: \u001b[0mStart with 'tensorboard --logdir runs\\train', view at http://localhost:6006/\n",
      "Overriding model.yaml nc=80 with nc=15\n",
      "\n",
      "                 from  n    params  module                                  arguments                     \n",
      "  0                -1  1      3520  models.common.Conv                      [3, 32, 6, 2, 2]              \n",
      "  1                -1  1     18560  models.common.Conv                      [32, 64, 3, 2]                \n",
      "  2                -1  1     18816  models.common.C3                        [64, 64, 1]                   \n",
      "  3                -1  1     73984  models.common.Conv                      [64, 128, 3, 2]               \n",
      "  4                -1  2    115712  models.common.C3                        [128, 128, 2]                 \n",
      "  5                -1  1    295424  models.common.Conv                      [128, 256, 3, 2]              \n",
      "  6                -1  3    625152  models.common.C3                        [256, 256, 3]                 \n",
      "  7                -1  1   1180672  models.common.Conv                      [256, 512, 3, 2]              \n",
      "  8                -1  1   1182720  models.common.C3                        [512, 512, 1]                 \n",
      "  9                -1  1    656896  models.common.SPPF                      [512, 512, 5]                 \n",
      " 10                -1  1    131584  models.common.Conv                      [512, 256, 1, 1]              \n",
      " 11                -1  1         0  torch.nn.modules.upsampling.Upsample    [None, 2, 'nearest']          \n",
      " 12           [-1, 6]  1         0  models.common.Concat                    [1]                           \n",
      " 13                -1  1    361984  models.common.C3                        [512, 256, 1, False]          \n",
      " 14                -1  1     33024  models.common.Conv                      [256, 128, 1, 1]              \n",
      " 15                -1  1         0  torch.nn.modules.upsampling.Upsample    [None, 2, 'nearest']          \n",
      " 16           [-1, 4]  1         0  models.common.Concat                    [1]                           \n",
      " 17                -1  1     90880  models.common.C3                        [256, 128, 1, False]          \n",
      " 18                -1  1    147712  models.common.Conv                      [128, 128, 3, 2]              \n",
      " 19          [-1, 14]  1         0  models.common.Concat                    [1]                           \n",
      " 20                -1  1    296448  models.common.C3                        [256, 256, 1, False]          \n",
      " 21                -1  1    590336  models.common.Conv                      [256, 256, 3, 2]              \n",
      " 22          [-1, 10]  1         0  models.common.Concat                    [1]                           \n",
      " 23                -1  1   1182720  models.common.C3                        [512, 512, 1, False]          \n",
      " 24      [17, 20, 23]  1     53940  models.yolo.Detect                      [15, [[10, 13, 16, 30, 33, 23], [30, 61, 62, 45, 59, 119], [116, 90, 156, 198, 373, 326]], [128, 256, 512]]\n",
      "Model summary: 270 layers, 7060084 parameters, 7060084 gradients, 16.0 GFLOPs\n",
      "\n",
      "Transferred 343/349 items from yolov5s.pt\n",
      "Scaled weight_decay = 0.0005\n",
      "\u001b[34m\u001b[1moptimizer:\u001b[0m SGD with parameter groups 57 weight (no decay), 60 weight, 60 bias\n",
      "\n",
      "\u001b[34m\u001b[1mtrain: \u001b[0mScanning 'C:\\Users\\Nic\\Documents\\GitHub\\BachelorThesis\\data\\labels.cache' images and labels... 16 found, 0 missing, 0 empty, 0 corrupt: 100%|##########| 16/16 [00:00<?, ?it/s]\n",
      "\u001b[34m\u001b[1mtrain: \u001b[0mScanning 'C:\\Users\\Nic\\Documents\\GitHub\\BachelorThesis\\data\\labels.cache' images and labels... 16 found, 0 missing, 0 empty, 0 corrupt: 100%|##########| 16/16 [00:00<?, ?it/s]\n",
      "\n",
      "\u001b[34m\u001b[1mval: \u001b[0mScanning 'C:\\Users\\Nic\\Documents\\GitHub\\BachelorThesis\\data\\labels.cache' images and labels... 16 found, 0 missing, 0 empty, 0 corrupt: 100%|##########| 16/16 [00:00<?, ?it/s]\n",
      "\u001b[34m\u001b[1mval: \u001b[0mScanning 'C:\\Users\\Nic\\Documents\\GitHub\\BachelorThesis\\data\\labels.cache' images and labels... 16 found, 0 missing, 0 empty, 0 corrupt: 100%|##########| 16/16 [00:00<?, ?it/s]\n",
      "Plotting labels to runs\\train\\exp3\\labels.jpg... \n",
      "\n",
      "\u001b[34m\u001b[1mAutoAnchor: \u001b[0m6.06 anchors/target, 1.000 Best Possible Recall (BPR). Current anchors are a good fit to dataset \n",
      "Image sizes 320 train, 320 val\n",
      "Using 0 dataloader workers\n",
      "Logging results to \u001b[1mruns\\train\\exp3\u001b[0m\n",
      "Starting training for 2 epochs...\n",
      "\n",
      "     Epoch   gpu_mem       box       obj       cls    labels  img_size\n",
      "\n",
      "  0%|          | 0/4 [00:00<?, ?it/s]\n",
      "       0/1     0.26G    0.1223   0.01311    0.0689        10       320:   0%|          | 0/4 [00:03<?, ?it/s]\n",
      "       0/1     0.26G    0.1223   0.01311    0.0689        10       320:  25%|##5       | 1/4 [00:07<00:21,  7.15s/it]\n",
      "       0/1    0.306G    0.1248   0.01194   0.06991         5       320:  25%|##5       | 1/4 [00:08<00:21,  7.15s/it]\n",
      "       0/1    0.306G    0.1248   0.01194   0.06991         5       320:  50%|#####     | 2/4 [00:08<00:07,  3.76s/it]\n",
      "       0/1    0.306G    0.1237   0.01315   0.06993         9       320:  50%|#####     | 2/4 [00:09<00:07,  3.76s/it]\n",
      "       0/1    0.306G    0.1237   0.01315   0.06993         9       320:  75%|#######5  | 3/4 [00:09<00:02,  2.66s/it]\n",
      "       0/1    0.306G    0.1216   0.01426   0.06962         9       320:  75%|#######5  | 3/4 [00:11<00:02,  2.66s/it]\n",
      "       0/1    0.306G    0.1216   0.01426   0.06962         9       320: 100%|##########| 4/4 [00:11<00:00,  2.13s/it]\n",
      "       0/1    0.306G    0.1216   0.01426   0.06962         9       320: 100%|##########| 4/4 [00:11<00:00,  2.80s/it]\n",
      "\n",
      "               Class     Images     Labels          P          R     mAP@.5 mAP@.5:.95:   0%|          | 0/2 [00:00<?, ?it/s]\n",
      "               Class     Images     Labels          P          R     mAP@.5 mAP@.5:.95:  50%|#####     | 1/2 [00:00<00:00,  1.26it/s]\n",
      "               Class     Images     Labels          P          R     mAP@.5 mAP@.5:.95: 100%|##########| 2/2 [00:01<00:00,  1.42it/s]\n",
      "               Class     Images     Labels          P          R     mAP@.5 mAP@.5:.95: 100%|##########| 2/2 [00:01<00:00,  1.40it/s]\n",
      "                 all         16         16     0.0336       0.25     0.0284    0.00373\n",
      "\n",
      "     Epoch   gpu_mem       box       obj       cls    labels  img_size\n",
      "\n",
      "  0%|          | 0/4 [00:00<?, ?it/s]\n",
      "       1/1    0.306G    0.1163   0.01656   0.07433         9       320:   0%|          | 0/4 [00:01<?, ?it/s]\n",
      "       1/1    0.306G    0.1163   0.01656   0.07433         9       320:  25%|##5       | 1/4 [00:01<00:03,  1.24s/it]\n",
      "       1/1    0.306G    0.1197   0.01666   0.07254        10       320:  25%|##5       | 1/4 [00:02<00:03,  1.24s/it]\n",
      "       1/1    0.306G    0.1197   0.01666   0.07254        10       320:  50%|#####     | 2/4 [00:02<00:02,  1.32s/it]\n",
      "       1/1    0.306G    0.1201   0.01593   0.07088         8       320:  50%|#####     | 2/4 [00:03<00:02,  1.32s/it]\n",
      "       1/1    0.306G    0.1201   0.01593   0.07088         8       320:  75%|#######5  | 3/4 [00:03<00:01,  1.30s/it]\n",
      "       1/1    0.306G    0.1198    0.0154   0.07002         8       320:  75%|#######5  | 3/4 [00:05<00:01,  1.30s/it]\n",
      "       1/1    0.306G    0.1198    0.0154   0.07002         8       320: 100%|##########| 4/4 [00:05<00:00,  1.35s/it]\n",
      "       1/1    0.306G    0.1198    0.0154   0.07002         8       320: 100%|##########| 4/4 [00:05<00:00,  1.33s/it]\n",
      "\n",
      "               Class     Images     Labels          P          R     mAP@.5 mAP@.5:.95:   0%|          | 0/2 [00:00<?, ?it/s]\n",
      "               Class     Images     Labels          P          R     mAP@.5 mAP@.5:.95:  50%|#####     | 1/2 [00:00<00:00,  1.31it/s]\n",
      "               Class     Images     Labels          P          R     mAP@.5 mAP@.5:.95: 100%|##########| 2/2 [00:01<00:00,  1.26it/s]\n",
      "               Class     Images     Labels          P          R     mAP@.5 mAP@.5:.95: 100%|##########| 2/2 [00:01<00:00,  1.27it/s]\n",
      "                 all         16         16     0.0127      0.125    0.00878   0.000878\n",
      "\n",
      "2 epochs completed in 0.006 hours.\n",
      "Optimizer stripped from runs\\train\\exp3\\weights\\last.pt, 14.3MB\n",
      "Optimizer stripped from runs\\train\\exp3\\weights\\best.pt, 14.3MB\n",
      "\n",
      "Validating runs\\train\\exp3\\weights\\best.pt...\n",
      "Fusing layers... \n",
      "Model summary: 213 layers, 7050580 parameters, 0 gradients, 15.9 GFLOPs\n",
      "\n",
      "               Class     Images     Labels          P          R     mAP@.5 mAP@.5:.95:   0%|          | 0/2 [00:00<?, ?it/s]\n",
      "               Class     Images     Labels          P          R     mAP@.5 mAP@.5:.95:  50%|#####     | 1/2 [00:00<00:00,  1.03it/s]\n",
      "               Class     Images     Labels          P          R     mAP@.5 mAP@.5:.95: 100%|##########| 2/2 [00:01<00:00,  1.00s/it]\n",
      "               Class     Images     Labels          P          R     mAP@.5 mAP@.5:.95: 100%|##########| 2/2 [00:01<00:00,  1.00it/s]\n",
      "                 all         16         16     0.0336       0.25     0.0284    0.00374\n",
      "                 car         16         16     0.0336       0.25     0.0284    0.00374\n",
      "Results saved to \u001b[1mruns\\train\\exp3\u001b[0m\n"
     ]
    }
   ],
   "source": [
    "!cd ../yolov5 && python train.py --img 320 --batch 4 --epochs 2 --data dataset.yaml --weights yolov5s.pt --workers 0"
   ]
  },
  {
   "cell_type": "code",
   "execution_count": 6,
   "id": "15f781a1",
   "metadata": {},
   "outputs": [
    {
     "name": "stderr",
     "output_type": "stream",
     "text": [
      "Downloading: \"https://github.com/ultralytics/yolov5/archive/master.zip\" to C:\\Users\\Nic/.cache\\torch\\hub\\master.zip\n",
      "YOLOv5  2022-5-16 Python-3.8.13 torch-1.11.0+cu113 CUDA:0 (NVIDIA GeForce GTX 950M, 4096MiB)\n",
      "\n",
      "Fusing layers... \n",
      "Model summary: 213 layers, 7050580 parameters, 0 gradients, 15.9 GFLOPs\n",
      "Adding AutoShape... \n"
     ]
    }
   ],
   "source": [
    "model = torch.hub.load('ultralytics/yolov5', 'custom', path='C:/Users/Nic/Documents/GitHub/yolov5/runs/train/exp3/weights/last.pt', force_reload=True)"
   ]
  },
  {
   "cell_type": "code",
   "execution_count": 7,
   "id": "6609f708",
   "metadata": {},
   "outputs": [],
   "source": [
    "img = os.path.join('data', 'images', 'car_000001_left.jpg')"
   ]
  },
  {
   "cell_type": "code",
   "execution_count": 8,
   "id": "bf0b95c2",
   "metadata": {},
   "outputs": [],
   "source": [
    "results = model(img)"
   ]
  },
  {
   "cell_type": "code",
   "execution_count": 9,
   "id": "4403898e",
   "metadata": {},
   "outputs": [
    {
     "name": "stdout",
     "output_type": "stream",
     "text": [
      "image 1/1: 1080x1920 (no detections)\n",
      "Speed: 126.7ms pre-process, 177.6ms inference, 2.0ms NMS per image at shape (1, 3, 384, 640)\n"
     ]
    }
   ],
   "source": [
    "results.print()"
   ]
  },
  {
   "cell_type": "code",
   "execution_count": 10,
   "id": "21be51c6",
   "metadata": {},
   "outputs": [
    {
     "data": {
      "image/png": "[encoded data removed]",
      "text/plain": [
       "<Figure size 432x288 with 1 Axes>"
      ]
     },
     "metadata": {
      "needs_background": "light"
     },
     "output_type": "display_data"
    }
   ],
   "source": [
    "%matplotlib inline \n",
    "plt.imshow(np.squeeze(results.render()))\n",
    "plt.show()"
   ]
  },
  {
   "cell_type": "code",
   "execution_count": null,
   "id": "5f771a60",
   "metadata": {},
   "outputs": [],
   "source": []
  }
 ],
 "metadata": {
  "kernelspec": {
   "display_name": "Python 3 (ipykernel)",
   "language": "python",
   "name": "python3"
  },
  "language_info": {
   "codemirror_mode": {
    "name": "ipython",
    "version": 3
   },
   "file_extension": ".py",
   "mimetype": "text/x-python",
   "name": "python",
   "nbconvert_exporter": "python",
   "pygments_lexer": "ipython3",
   "version": "3.8.13"
  }
 },
 "nbformat": 4,
 "nbformat_minor": 5
}
